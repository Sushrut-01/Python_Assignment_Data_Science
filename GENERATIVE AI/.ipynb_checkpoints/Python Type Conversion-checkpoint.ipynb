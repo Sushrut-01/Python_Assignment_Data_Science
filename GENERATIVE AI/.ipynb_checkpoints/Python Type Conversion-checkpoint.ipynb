{
 "cells": [
  {
   "cell_type": "code",
   "execution_count": null,
   "id": "aa5ed102-42c5-4dfc-b4b9-7d0d3b68445b",
   "metadata": {},
   "outputs": [],
   "source": [
    "#Module 05 -Assignment : Assignment : Type Conversion"
   ]
  },
  {
   "cell_type": "code",
   "execution_count": null,
   "id": "bce9adcd-92bc-4df6-9276-2cf4fd0b443d",
   "metadata": {},
   "outputs": [],
   "source": [
    "#Covert a iteger to a floatig-poit umber.\n",
    "#ANS-integer_value = 42\n",
    "floating_point_value = float(integer_value)\n",
    "print(floating_point_value)  # Output: 42.0"
   ]
  },
  {
   "cell_type": "code",
   "execution_count": 1,
   "id": "603e0dc0-584a-44e3-8f5c-51be6c9d0615",
   "metadata": {},
   "outputs": [
    {
     "ename": "SyntaxError",
     "evalue": "invalid syntax (1745046378.py, line 1)",
     "output_type": "error",
     "traceback": [
      "\u001b[0;36m  Cell \u001b[0;32mIn[1], line 1\u001b[0;36m\u001b[0m\n\u001b[0;31m    2-Covert a float to a iteger.\u001b[0m\n\u001b[0m             ^\u001b[0m\n\u001b[0;31mSyntaxError\u001b[0m\u001b[0;31m:\u001b[0m invalid syntax\n"
     ]
    }
   ],
   "source": [
    "#2-Covert a float to a iteger.\n",
    "#floating_point_value = 42.7\n",
    "integer_value = int(floating_point_value)\n",
    "print(integer_value)  # Output: 42\n"
   ]
  },
  {
   "cell_type": "code",
   "execution_count": null,
   "id": "424f7013-cc5e-4571-b0f0-ddab2f692ec1",
   "metadata": {},
   "outputs": [],
   "source": [
    "#3-Covert a iteger to a %trig.\n",
    "\n",
    "\n",
    "#integer_value = 42\n",
    "string_value = str(integer_value)\n",
    "print(string_value)  # Output: \"42\""
   ]
  },
  {
   "cell_type": "code",
   "execution_count": null,
   "id": "8663efc4-92eb-4c21-a325-82f0c139317c",
   "metadata": {},
   "outputs": [],
   "source": [
    "#4-Covert a list to a tuple.\n",
    "\n",
    "\n",
    "\n",
    "\n",
    "#list_value = [1, 2, 3, 4, 5]\n",
    "tuple_value = tuple(list_value)\n",
    "print(tuple_value)  # Output: (1, 2, 3, 4, 5)"
   ]
  },
  {
   "cell_type": "code",
   "execution_count": 3,
   "id": "c0644efc-d818-47c2-b533-18a4dd502ef3",
   "metadata": {},
   "outputs": [],
   "source": [
    "#5-Covert a tuple to a li%t.\n",
    "\n",
    "#tuple_value = (1, 2, 3, 4, 5)\n",
    "list_value = list(tuple_value)\n",
    "print(list_value)  # Output: [1, 2, 3, 4, 5]"
   ]
  },
  {
   "cell_type": "code",
   "execution_count": null,
   "id": "01129177-0d33-48c8-b301-1653a5c8a15c",
   "metadata": {},
   "outputs": [],
   "source": [
    "#6-Covert a decimal number to biary.\n",
    "\n",
    "#decimal_value = 42\n",
    "binary_value = bin(decimal_value)\n",
    "print(binary_value)  # Output: '0b101010'\n",
    "\n",
    "# To get only the binary digits\n",
    "binary_digits = bin(decimal_value)[2:]\n",
    "print(binary_digits)  # Output: '101010'\n",
    "\n"
   ]
  },
  {
   "cell_type": "code",
   "execution_count": null,
   "id": "f6a5723e-2581-4883-83c6-c27699cf2c83",
   "metadata": {},
   "outputs": [],
   "source": [
    "#7 Covert a o-zero umber to boolea.\n",
    "\n",
    "\n",
    "#To convert a non-zero number to a boolean in Python, you can use the bool() function. Any non-zero number (whether it's an integer or a floating-point number) will convert to True, while zero will convert to False.\n",
    "# Non-zero integer\n",
    "non_zero_integer = 42\n",
    "boolean_value = bool(non_zero_integer)\n",
    "print(boolean_value)  # Output: True\n",
    "\n",
    "# Non-zero floating-point number\n",
    "non_zero_float = 3.14\n",
    "boolean_value = bool(non_zero_float)\n",
    "print(boolean_value)  # Output: True\n",
    "\n",
    "# Zero value\n",
    "zero_value = 0\n",
    "boolean_value = bool(zero_value)\n",
    "print(boolean_value)  # Output: False\n",
    "\n"
   ]
  },
  {
   "cell_type": "code",
   "execution_count": null,
   "id": "3f69362f-515e-4fc7-bb35-257c13a128de",
   "metadata": {},
   "outputs": [],
   "source": []
  },
  {
   "cell_type": "code",
   "execution_count": null,
   "id": "95fd6b05-f9b1-4bc7-9162-501a8fe4fa4c",
   "metadata": {},
   "outputs": [],
   "source": []
  },
  {
   "cell_type": "code",
   "execution_count": null,
   "id": "f9f6982d-d7ca-48fe-b289-95dc7824a3f8",
   "metadata": {},
   "outputs": [],
   "source": []
  },
  {
   "cell_type": "code",
   "execution_count": null,
   "id": "71a867e4-f9f1-4c8f-80ab-dac6b3627ccb",
   "metadata": {},
   "outputs": [],
   "source": []
  },
  {
   "cell_type": "code",
   "execution_count": null,
   "id": "996dac68-fb25-4508-bd01-554257894de0",
   "metadata": {},
   "outputs": [],
   "source": []
  },
  {
   "cell_type": "code",
   "execution_count": null,
   "id": "2bbab766-5406-4580-9bad-9bae28e545f5",
   "metadata": {},
   "outputs": [],
   "source": []
  },
  {
   "cell_type": "code",
   "execution_count": null,
   "id": "2b6246ce-f56f-408e-8787-2b074771a40b",
   "metadata": {},
   "outputs": [],
   "source": []
  },
  {
   "cell_type": "code",
   "execution_count": null,
   "id": "375df7c4-12e1-4b4b-b52c-946478173a68",
   "metadata": {},
   "outputs": [],
   "source": []
  },
  {
   "cell_type": "code",
   "execution_count": null,
   "id": "cb1f191c-1122-4239-bb27-fe531fe7ca86",
   "metadata": {},
   "outputs": [],
   "source": []
  }
 ],
 "metadata": {
  "kernelspec": {
   "display_name": "Python 3 (ipykernel)",
   "language": "python",
   "name": "python3"
  },
  "language_info": {
   "codemirror_mode": {
    "name": "ipython",
    "version": 3
   },
   "file_extension": ".py",
   "mimetype": "text/x-python",
   "name": "python",
   "nbconvert_exporter": "python",
   "pygments_lexer": "ipython3",
   "version": "3.10.8"
  }
 },
 "nbformat": 4,
 "nbformat_minor": 5
}
